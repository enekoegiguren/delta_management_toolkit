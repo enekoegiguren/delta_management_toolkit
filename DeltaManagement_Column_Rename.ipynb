{
 "cells": [
  {
   "cell_type": "markdown",
   "id": "a62ce9c0-389d-442b-8218-7b1f3e9ab269",
   "metadata": {},
   "source": [
    "#\n",
    "\n",
    "\n"
   ]
  },
  {
   "cell_type": "markdown",
   "id": "71ff605d-7659-4ef2-852e-e2b63af4fd65",
   "metadata": {},
   "source": [
    "# **DELTA Table Management: Rename Column**\n",
    "\n",
    "#### Overview\n",
    "- This notebook is designed to change a Delta table column name or type\n",
    "\n",
    "---\n",
    "\n",
    "#### Key Functionalities\n",
    "- **Data definition**\n",
    "\n",
    "---\n",
    "\n",
    "#### Prerequisites\n",
    "- **Libraries**: \n",
    "- **Data Sources**: \n",
    "- **Permissions**: \n",
    "\n",
    "---\n",
    "\n",
    "#### Usage Instructions\n",
    "1. **Set Up**: \n",
    "2. **Run Cells**: \n",
    "3. **Modify Parameters**: \n",
    "4. **Save Outputs**: \n",
    "\n",
    "---\n",
    "\n",
    "#### Notes\n",
    "- **Assumptions**:\n",
    "- https://fabric.guru/enabling-column-mapping-for-spaces-in-column-names-in-delta-table\n",
    "- **Limitations**: \n",
    "- **Version**: \n",
    "\n",
    "---\n",
    "\n",
    "#### Contact"
   ]
  },
  {
   "cell_type": "markdown",
   "id": "099f5e68-2b4d-4df7-bf32-4a8d8eeb534f",
   "metadata": {},
   "source": [
    "## Column name"
   ]
  },
  {
   "cell_type": "code",
   "execution_count": null,
   "id": "ae4e19e5-4684-41bc-93e3-dce6c5e8c764",
   "metadata": {
    "microsoft": {
     "language": "python",
     "language_group": "synapse_pyspark"
    }
   },
   "outputs": [],
   "source": [
    "def update_table_properties_and_rename_columns(\n",
    "    table_name: str,\n",
    "    rename_dict: dict\n",
    "):\n",
    "    \"\"\"\n",
    "    Update Delta table properties and rename multiple columns using a mapping dictionary.\n",
    "\n",
    "    Args:\n",
    "        table_name (str): Name of the Delta table.\n",
    "        rename_dict (dict): Dictionary with {old_column_name: new_column_name} pairs.\n",
    "    \"\"\"\n",
    "    # Step 1: Set Delta column mapping properties\n",
    "    set_properties_sql = f\"\"\"\n",
    "    ALTER TABLE `{table_name}` SET TBLPROPERTIES (\n",
    "        'delta.minReaderVersion' = '2',\n",
    "        'delta.minWriterVersion' = '5',\n",
    "        'delta.columnMapping.mode' = 'name'\n",
    "    )\n",
    "    \"\"\"\n",
    "    spark.sql(set_properties_sql)\n",
    "\n",
    "    # Step 2: Loop through dictionary to rename columns\n",
    "    for old_col, new_col in rename_dict.items():\n",
    "        rename_column_sql = f\"\"\"\n",
    "        ALTER TABLE `{table_name}` RENAME COLUMN `{old_col}` TO `{new_col}`\n",
    "        \"\"\"\n",
    "        spark.sql(rename_column_sql)\n"
   ]
  },
  {
   "cell_type": "code",
   "execution_count": null,
   "id": "898d7a4c-4678-4f6f-803e-d5f4b12f888c",
   "metadata": {
    "microsoft": {
     "language": "python",
     "language_group": "synapse_pyspark"
    },
    "tags": [
     "parameters"
    ]
   },
   "outputs": [],
   "source": [
    "table_name = 'dt_lead'\n",
    "\n",
    "rename_map = {\n",
    "    \"Partner_DealRegitrationDenied\": \"Partner_DealRegistrationDenied\",\n",
    "    'Partner_DealRegitrationStatus': 'Partner_DealRegistrationStatus'\n",
    "}"
   ]
  },
  {
   "cell_type": "code",
   "execution_count": null,
   "id": "4a8273e3-36a7-4823-acc9-7a9133f40b7b",
   "metadata": {
    "microsoft": {
     "language": "python",
     "language_group": "synapse_pyspark"
    }
   },
   "outputs": [],
   "source": [
    "update_table_properties_and_rename_columns(table_name, rename_map)"
   ]
  }
 ],
 "metadata": {
  "a365ComputeOptions": null,
  "dependencies": {
   "lakehouse": {
    "default_lakehouse": "e1576e6b-4fac-458a-bd27-e86eb5f1dfb7",
    "default_lakehouse_name": "PRO_WECODATA_02_SILVER_LH",
    "default_lakehouse_workspace_id": "05a2d4b1-e636-430d-bc4c-83aa12b1e3a9",
    "known_lakehouses": [
     {
      "id": "e1576e6b-4fac-458a-bd27-e86eb5f1dfb7"
     }
    ]
   }
  },
  "kernel_info": {
   "name": "synapse_pyspark"
  },
  "language_info": {
   "name": "python"
  },
  "microsoft": {
   "language": "python",
   "language_group": "synapse_pyspark",
   "ms_spell_check": {
    "ms_spell_check_language": "en"
   }
  },
  "nteract": {
   "version": "nteract-front-end@1.0.0"
  },
  "sessionKeepAliveTimeout": 0,
  "spark_compute": {
   "compute_id": "/trident/default",
   "session_options": {
    "conf": {
     "spark.synapse.nbs.session.timeout": "1200000"
    }
   }
  }
 },
 "nbformat": 4,
 "nbformat_minor": 5
}
