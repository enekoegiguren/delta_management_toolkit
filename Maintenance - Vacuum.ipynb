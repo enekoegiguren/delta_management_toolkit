{
 "cells": [
  {
   "cell_type": "markdown",
   "id": "ef8f0329-d7a6-419f-b9ea-554cbd139b21",
   "metadata": {},
   "source": [
    "# Maintenance: Vacuum\n",
    "\n",
    "- Delete Delta old files\n",
    "\n",
    "https://www.mssqltips.com/sqlservertip/8201/microsoft-fabric-optimize-delta-tables/"
   ]
  },
  {
   "cell_type": "code",
   "execution_count": null,
   "id": "19fb3217-baac-4873-a8af-79bceccfb92d",
   "metadata": {
    "microsoft": {
     "language": "python",
     "language_group": "synapse_pyspark"
    }
   },
   "outputs": [],
   "source": [
    "tables = [t.name for t in spark.catalog.listTables()]"
   ]
  },
  {
   "cell_type": "code",
   "execution_count": null,
   "id": "65611068-5fa8-43cb-9789-d2c7f58eb198",
   "metadata": {
    "microsoft": {
     "language": "python",
     "language_group": "synapse_pyspark"
    }
   },
   "outputs": [],
   "source": [
    "### Programmatically run Vacuum command automatically for multiple tables ###\n",
    " \n",
    "from delta.tables import DeltaTable\n",
    " \n",
    "# Perform Vacuum for each table\n",
    "for table_name in tables:\n",
    "    try:\n",
    "        # Accessing the Delta table\n",
    "        delta_table = DeltaTable.forName(spark, table_name)\n",
    "        \n",
    "        # Perform VACUUM with a retention period of 7 days (168 hours)\n",
    "        print(f\"Vacuuming table: {table_name} with a retention period of 14 days.\")\n",
    "        delta_table.vacuum(retentionHours=168)\n",
    "        \n",
    "        print(f\"Vacuum operation completed for table: {table_name}\\n\")\n",
    "    except Exception as e:\n",
    "        print(f\"Error processing table {table_name}: {str(e)}\") "
   ]
  }
 ],
 "metadata": {
  "a365ComputeOptions": null,
  "dependencies": {
   "lakehouse": {
    "default_lakehouse": "e1576e6b-4fac-458a-bd27-e86eb5f1dfb7",
    "default_lakehouse_name": "PRO_WECODATA_02_SILVER_LH",
    "default_lakehouse_workspace_id": "05a2d4b1-e636-430d-bc4c-83aa12b1e3a9",
    "known_lakehouses": [
     {
      "id": "e1576e6b-4fac-458a-bd27-e86eb5f1dfb7"
     }
    ]
   }
  },
  "kernel_info": {
   "name": "synapse_pyspark"
  },
  "language_info": {
   "name": "python"
  },
  "microsoft": {
   "language": "python",
   "language_group": "synapse_pyspark",
   "ms_spell_check": {
    "ms_spell_check_language": "en"
   }
  },
  "nteract": {
   "version": "nteract-front-end@1.0.0"
  },
  "sessionKeepAliveTimeout": 0,
  "spark_compute": {
   "compute_id": "/trident/default",
   "session_options": {
    "conf": {
     "spark.synapse.nbs.session.timeout": "1200000"
    }
   }
  }
 },
 "nbformat": 4,
 "nbformat_minor": 5
}
