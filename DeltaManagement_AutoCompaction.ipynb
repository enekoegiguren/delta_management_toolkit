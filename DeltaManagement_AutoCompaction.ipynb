{
 "cells": [
  {
   "cell_type": "markdown",
   "id": "97c7e575-e63e-43f0-b695-2f9dcc6829f0",
   "metadata": {},
   "source": [
    "#\n",
    "\n",
    "\n"
   ]
  },
  {
   "cell_type": "markdown",
   "id": "93abb522-7d81-4f13-9893-85e3e1362dc8",
   "metadata": {},
   "source": [
    "# **DELTA Table Management: AutoCompaction**\n",
    "\n",
    "https://milescole.dev/data-engineering/2025/02/26/The-Art-and-Science-of-Table-Compaction.html\n",
    "\n",
    "#### Overview\n",
    "- This notebook is designed to change a Delta table column name or type\n",
    "\n",
    "---\n",
    "\n",
    "#### Key Functionalities\n",
    "- **Data definition**\n",
    "\n",
    "---\n",
    "\n",
    "#### Prerequisites\n",
    "- **Libraries**: \n",
    "- **Data Sources**: \n",
    "- **Permissions**: \n",
    "\n",
    "---\n",
    "\n",
    "#### Usage Instructions\n",
    "1. **Set Up**: \n",
    "2. **Run Cells**: \n",
    "3. **Modify Parameters**: \n",
    "4. **Save Outputs**: \n",
    "\n",
    "---\n",
    "\n",
    "#### Notes\n",
    "- **Assumptions**: \n",
    "- **Limitations**: \n",
    "- **Version**: \n",
    "\n",
    "---\n",
    "\n",
    "#### Contact"
   ]
  },
  {
   "cell_type": "code",
   "execution_count": null,
   "id": "e5ca9e39-0fcb-4df1-842f-0c294cff5b58",
   "metadata": {
    "microsoft": {
     "language": "python",
     "language_group": "synapse_pyspark"
    }
   },
   "outputs": [],
   "source": [
    "#Show your databases names\n",
    "spark.catalog.listDatabases()\n",
    "schema_name = 'PRO_WECODATA_02_SILVER_LH'"
   ]
  },
  {
   "cell_type": "code",
   "execution_count": null,
   "id": "07e9db75-fb8f-417a-bc0a-23012e4f1f6c",
   "metadata": {
    "microsoft": {
     "language": "python",
     "language_group": "synapse_pyspark"
    }
   },
   "outputs": [],
   "source": [
    "# Get all tables in the Lakehouse\n",
    "tables = spark.catalog.listTables(schema_name)  "
   ]
  },
  {
   "cell_type": "code",
   "execution_count": null,
   "id": "80579f29-839a-4fb8-b7b1-7ba5d4d61559",
   "metadata": {
    "microsoft": {
     "language": "python",
     "language_group": "synapse_pyspark"
    }
   },
   "outputs": [],
   "source": [
    "for table in tables:\n",
    "    table_name = table.name\n",
    "    sql = f\"\"\"\n",
    "    ALTER TABLE {schema_name}.{table_name}\n",
    "    SET TBLPROPERTIES (\n",
    "        'delta.autoOptimize.optimizeWrite' = 'true',\n",
    "        'delta.autoOptimize.autoCompact' = 'true'\n",
    "    )\n",
    "    \"\"\"\n",
    "    print(f\"Applying to: {table_name}\")\n",
    "    spark.sql(sql)"
   ]
  }
 ],
 "metadata": {
  "a365ComputeOptions": null,
  "dependencies": {
   "lakehouse": {
    "default_lakehouse": "e1576e6b-4fac-458a-bd27-e86eb5f1dfb7",
    "default_lakehouse_name": "PRO_WECODATA_02_SILVER_LH",
    "default_lakehouse_workspace_id": "05a2d4b1-e636-430d-bc4c-83aa12b1e3a9",
    "known_lakehouses": [
     {
      "id": "e1576e6b-4fac-458a-bd27-e86eb5f1dfb7"
     }
    ]
   }
  },
  "kernel_info": {
   "name": "synapse_pyspark"
  },
  "language_info": {
   "name": "python"
  },
  "microsoft": {
   "language": "python",
   "language_group": "synapse_pyspark",
   "ms_spell_check": {
    "ms_spell_check_language": "en"
   }
  },
  "nteract": {
   "version": "nteract-front-end@1.0.0"
  },
  "sessionKeepAliveTimeout": 0,
  "spark_compute": {
   "compute_id": "/trident/default",
   "session_options": {
    "conf": {
     "spark.synapse.nbs.session.timeout": "1200000"
    }
   }
  },
  "synapse_widget": {
   "state": {},
   "version": "0.1"
  }
 },
 "nbformat": 4,
 "nbformat_minor": 5
}
