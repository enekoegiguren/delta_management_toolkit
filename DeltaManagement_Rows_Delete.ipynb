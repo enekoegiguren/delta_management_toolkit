{
 "cells": [
  {
   "cell_type": "markdown",
   "id": "07d9daf6-2e95-4aa1-bcc4-fcbd1b3b6ab2",
   "metadata": {},
   "source": [
    "#\n",
    "\n",
    "\n"
   ]
  },
  {
   "cell_type": "markdown",
   "id": "a2c6fd33-3912-4a24-b5e7-86cee5df1679",
   "metadata": {},
   "source": [
    "# **DELTA Table Management: DML Operations - Delete rows**\n",
    "\n",
    "\n",
    "#### Overview\n",
    "- This notebook is designed to change a Delta table column name or type\n",
    "\n",
    "---\n",
    "\n",
    "#### Key Functionalities\n",
    "- **Data definition**\n",
    "\n",
    "---\n",
    "\n",
    "#### Prerequisites\n",
    "- **Libraries**: \n",
    "- **Data Sources**: \n",
    "- **Permissions**: \n",
    "\n",
    "---\n",
    "\n",
    "#### Usage Instructions\n",
    "1. **Set Up**: \n",
    "2. **Run Cells**: \n",
    "3. **Modify Parameters**: \n",
    "4. **Save Outputs**: \n",
    "\n",
    "---\n",
    "\n",
    "#### Notes\n",
    "- **Assumptions**: \n",
    "- https://fabric.guru/enabling-column-mapping-for-spaces-in-column-names-in-delta-table\n",
    "- **Limitations**: \n",
    "- **Version**: \n",
    "\n",
    "---\n",
    "\n",
    "#### Contact"
   ]
  },
  {
   "cell_type": "code",
   "execution_count": null,
   "id": "459cdefd-2bc9-4afb-9337-f2f40a9c09ad",
   "metadata": {
    "microsoft": {
     "language": "python",
     "language_group": "synapse_pyspark"
    }
   },
   "outputs": [],
   "source": [
    "from delta.tables import DeltaTable"
   ]
  },
  {
   "cell_type": "code",
   "execution_count": null,
   "id": "4583d0bc-110c-4071-b073-66606774d895",
   "metadata": {
    "microsoft": {
     "language": "python",
     "language_group": "synapse_pyspark"
    }
   },
   "outputs": [],
   "source": [
    "def delete_rows(table_name: str, condition: str):\n",
    "    \"\"\"\n",
    "    Deletes rows from a Delta table based on a SQL-like condition.\n",
    "    \n",
    "    Args:\n",
    "        table_name (str): The name of the Delta table (e.g., 'db.my_table' or path 'Tables/rls_sf_sales')\n",
    "        condition (str): SQL condition string (e.g., \"Username LIKE '%pikabea%'\")\n",
    "    \"\"\"\n",
    "    # Step 1: Load the Delta table\n",
    "    try:\n",
    "        delta_table = DeltaTable.forName(spark, table_name)\n",
    "    except:\n",
    "        # If not registered as a table, try loading by path\n",
    "        delta_table = DeltaTable.forPath(spark, table_name)\n",
    "\n",
    "    # Step 2: Preview rows to be deleted\n",
    "    rows_to_delete = delta_table.toDF().filter(condition)\n",
    "    count = rows_to_delete.count()\n",
    "    \n",
    "    if count == 0:\n",
    "        print(\"[INFO] No rows match the condition. Nothing to delete.\")\n",
    "        return\n",
    "\n",
    "    print(f\"[INFO] {count} row(s) will be deleted. Preview:\")\n",
    "    rows_to_delete.show(truncate=False)\n",
    "\n",
    "    # Step 3: Delete the rows\n",
    "    delta_table.delete(condition)\n",
    "    print(f\"[SUCCESS] {count} row(s) deleted from '{table_name}'.\")\n"
   ]
  },
  {
   "cell_type": "markdown",
   "id": "f5076772-b074-4ab4-8825-17577dfbf6be",
   "metadata": {},
   "source": [
    "#### Example use\n",
    "\n",
    "delete_rows(\"rls_sf_sales\", \"Username LIKE '%pikabea%'\")"
   ]
  },
  {
   "cell_type": "code",
   "execution_count": null,
   "id": "f5d03de8-3178-43f6-a7c0-9e9fe542f0a1",
   "metadata": {
    "microsoft": {
     "language": "python",
     "language_group": "synapse_pyspark"
    },
    "tags": [
     "parameters"
    ]
   },
   "outputs": [],
   "source": [
    "delete_rows(\"rls_sf_sales\", \"Username LIKE '%pikabea%'\")"
   ]
  }
 ],
 "metadata": {
  "a365ComputeOptions": null,
  "dependencies": {
   "lakehouse": {}
  },
  "kernel_info": {
   "name": "synapse_pyspark"
  },
  "language_info": {
   "name": "python"
  },
  "microsoft": {
   "language": "python",
   "language_group": "synapse_pyspark",
   "ms_spell_check": {
    "ms_spell_check_language": "en"
   }
  },
  "nteract": {
   "version": "nteract-front-end@1.0.0"
  },
  "sessionKeepAliveTimeout": 0,
  "spark_compute": {
   "compute_id": "/trident/default",
   "session_options": {
    "conf": {
     "spark.synapse.nbs.session.timeout": "1200000"
    }
   }
  }
 },
 "nbformat": 4,
 "nbformat_minor": 5
}
