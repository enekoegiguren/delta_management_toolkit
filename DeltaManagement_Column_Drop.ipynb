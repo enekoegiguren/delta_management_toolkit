{
 "cells": [
  {
   "cell_type": "markdown",
   "id": "97c7e575-e63e-43f0-b695-2f9dcc6829f0",
   "metadata": {},
   "source": [
    "#\n",
    "\n",
    "\n"
   ]
  },
  {
   "cell_type": "markdown",
   "id": "93abb522-7d81-4f13-9893-85e3e1362dc8",
   "metadata": {},
   "source": [
    "# **DELTA Table Management: Drop Column**\n",
    "\n",
    "\n",
    "#### Overview\n",
    "- This notebook is designed to change a Delta table column name or type\n",
    "\n",
    "---\n",
    "\n",
    "#### Key Functionalities\n",
    "- **Data definition**\n",
    "\n",
    "---\n",
    "\n",
    "#### Prerequisites\n",
    "- **Libraries**: \n",
    "- **Data Sources**: \n",
    "- **Permissions**: \n",
    "\n",
    "---\n",
    "\n",
    "#### Usage Instructions\n",
    "1. **Set Up**: \n",
    "2. **Run Cells**: \n",
    "3. **Modify Parameters**: \n",
    "4. **Save Outputs**: \n",
    "\n",
    "---\n",
    "\n",
    "#### Notes\n",
    "- **Assumptions**: \n",
    "- https://fabric.guru/enabling-column-mapping-for-spaces-in-column-names-in-delta-table\n",
    "- **Limitations**: \n",
    "- **Version**: \n",
    "\n",
    "---\n",
    "\n",
    "#### Contact"
   ]
  },
  {
   "cell_type": "code",
   "execution_count": null,
   "id": "07e9db75-fb8f-417a-bc0a-23012e4f1f6c",
   "metadata": {
    "microsoft": {
     "language": "python",
     "language_group": "synapse_pyspark"
    }
   },
   "outputs": [],
   "source": [
    "def drop_columns(table_name: str, cols: list):\n",
    "    \"\"\"\n",
    "    Drops one or more columns from a Delta table by name.\n",
    "    \n",
    "    Args:\n",
    "        table_name (str): The name of the table (e.g., 'db.my_table')\n",
    "        cols (list): List of column names to drop\n",
    "    \"\"\"\n",
    "    if not cols:\n",
    "        print(\"[INFO] No columns provided for drop. Skipping.\")\n",
    "        return\n",
    "\n",
    "    # Step 1: Ensure column mapping mode is enabled\n",
    "    spark.sql(f\"\"\"\n",
    "        ALTER TABLE `{table_name}` SET TBLPROPERTIES (\n",
    "            'delta.minReaderVersion' = '2',\n",
    "            'delta.minWriterVersion' = '5',\n",
    "            'delta.columnMapping.mode' = 'name'\n",
    "        )\n",
    "    \"\"\")\n",
    "\n",
    "    # Step 2: Load schema and validate columns\n",
    "    df = spark.table(table_name)\n",
    "    existing_cols = df.columns\n",
    "\n",
    "    for col in cols:\n",
    "        if col not in existing_cols:\n",
    "            print(f\"[FAILURE] Column '{col}' not found in table. Skipping.\")\n",
    "            continue\n",
    "\n",
    "        # Step 3: Drop the column\n",
    "        spark.sql(f\"\"\"\n",
    "            ALTER TABLE `{table_name}` DROP COLUMN `{col}`\n",
    "        \"\"\")\n",
    "        print(f\"[SUCCESS] Column '{col}' dropped successfully.\")\n"
   ]
  },
  {
   "cell_type": "code",
   "execution_count": null,
   "id": "265eda3d-4f48-47d1-af0b-f3be4a5a998e",
   "metadata": {
    "microsoft": {
     "language": "python",
     "language_group": "synapse_pyspark"
    },
    "tags": [
     "parameters"
    ]
   },
   "outputs": [],
   "source": [
    "#### Example\n",
    "table_name = 'ft_opportunity'\n",
    "cols = ['PrimaryContactEndUser']"
   ]
  },
  {
   "cell_type": "code",
   "execution_count": null,
   "id": "4ebd7a5e-4875-4cec-a357-082cf0c2cedf",
   "metadata": {
    "microsoft": {
     "language": "python",
     "language_group": "synapse_pyspark"
    }
   },
   "outputs": [],
   "source": [
    "drop_columns(table_name, cols)"
   ]
  }
 ],
 "metadata": {
  "a365ComputeOptions": null,
  "dependencies": {
   "lakehouse": {
    "default_lakehouse": "e1576e6b-4fac-458a-bd27-e86eb5f1dfb7",
    "default_lakehouse_name": "PRO_WECODATA_02_SILVER_LH",
    "default_lakehouse_workspace_id": "05a2d4b1-e636-430d-bc4c-83aa12b1e3a9",
    "known_lakehouses": [
     {
      "id": "e1576e6b-4fac-458a-bd27-e86eb5f1dfb7"
     }
    ]
   }
  },
  "kernel_info": {
   "name": "synapse_pyspark"
  },
  "language_info": {
   "name": "python"
  },
  "microsoft": {
   "language": "python",
   "language_group": "synapse_pyspark",
   "ms_spell_check": {
    "ms_spell_check_language": "en"
   }
  },
  "nteract": {
   "version": "nteract-front-end@1.0.0"
  },
  "sessionKeepAliveTimeout": 0,
  "spark_compute": {
   "compute_id": "/trident/default",
   "session_options": {
    "conf": {
     "spark.synapse.nbs.session.timeout": "1200000"
    }
   }
  }
 },
 "nbformat": 4,
 "nbformat_minor": 5
}
